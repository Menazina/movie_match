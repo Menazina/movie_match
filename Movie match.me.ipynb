{
 "cells": [
  {
   "cell_type": "markdown",
   "metadata": {},
   "source": [
    "Run me!, and give me your favourite movie, I will return a list of recommendations!"
   ]
  },
  {
   "cell_type": "code",
   "execution_count": 1,
   "metadata": {},
   "outputs": [],
   "source": [
    "import numpy as np\n",
    "import pandas as pd\n",
    "from scipy.spatial.distance import pdist \n",
    "from scipy.spatial.distance import squareform\n",
    "import scipy.spatial.distance as distance"
   ]
  },
  {
   "cell_type": "code",
   "execution_count": 2,
   "metadata": {},
   "outputs": [],
   "source": [
    "data_film = pd.read_csv(\"/Users/Menazina/Desktop/movie_match/IMDB-Movie-Data.csv\")"
   ]
  },
  {
   "cell_type": "code",
   "execution_count": 3,
   "metadata": {},
   "outputs": [],
   "source": [
    "lst = []\n",
    "for i in data_film[\"Genre\"]:\n",
    "    x = i.split(\",\")\n",
    "    lst = lst+x"
   ]
  },
  {
   "cell_type": "code",
   "execution_count": 4,
   "metadata": {},
   "outputs": [],
   "source": [
    "lst = list(set(lst))\n",
    "gnr_lst = []\n",
    "for i in data_film[\"Genre\"]:\n",
    "    gnrlst = []\n",
    "    for j in lst:\n",
    "        if j in i:\n",
    "            gnrlst.append(1)\n",
    "        else:\n",
    "            gnrlst.append(0)\n",
    "    gnr_lst.append(gnrlst)"
   ]
  },
  {
   "cell_type": "code",
   "execution_count": 10,
   "metadata": {},
   "outputs": [
    {
     "name": "stderr",
     "output_type": "stream",
     "text": [
      "/Users/Menazina/opt/anaconda3/lib/python3.7/site-packages/ipykernel_launcher.py:4: SettingWithCopyWarning: \n",
      "A value is trying to be set on a copy of a slice from a DataFrame\n",
      "\n",
      "See the caveats in the documentation: https://pandas.pydata.org/pandas-docs/stable/user_guide/indexing.html#returning-a-view-versus-a-copy\n",
      "  after removing the cwd from sys.path.\n"
     ]
    }
   ],
   "source": [
    "genre = pd.DataFrame(gnr_lst, columns = lst)\n",
    "genre[\"Title\"] = \"null\"\n",
    "for i in genre[\"Drama\"].index:\n",
    "    genre[\"Title\"][i] = data_film[\"Title\"][i]"
   ]
  },
  {
   "cell_type": "code",
   "execution_count": 12,
   "metadata": {},
   "outputs": [],
   "source": [
    "distance = squareform(pdist(genre.iloc[:,:-3], 'euclidean'))\n",
    "similarity = 1/(1+distance)\n",
    "similarities = pd.DataFrame(similarity, index = genre.index, columns = genre.index)"
   ]
  },
  {
   "cell_type": "code",
   "execution_count": 15,
   "metadata": {
    "scrolled": false
   },
   "outputs": [
    {
     "name": "stdout",
     "output_type": "stream",
     "text": [
      "Tell me your favourite movie: 57\n",
      "Title\n",
      "The Longest Ride                                1.000000\n",
      "Brooklyn                                        1.000000\n",
      "The Illusionist                                 1.000000\n",
      "The Light Between Oceans                        1.000000\n",
      "Dear Zindagi                                    1.000000\n",
      "                                                  ...   \n",
      "Monsters University                             0.309017\n",
      "Mechanic: Resurrection                          0.309017\n",
      "Harry Potter and the Deathly Hallows: Part 1    0.309017\n",
      "Guardians of the Galaxy                         0.309017\n",
      "Mamma Mia!                                      0.289898\n",
      "Name: 57, Length: 999, dtype: float64\n"
     ]
    }
   ],
   "source": [
    "fill_m = input(\"Tell me your favourite movie: \")\n",
    "print(similarities.set_index(genre[\"Title\"])[int(fill_m)].sort_values(ascending=False)[1:])"
   ]
  },
  {
   "cell_type": "code",
   "execution_count": null,
   "metadata": {},
   "outputs": [],
   "source": []
  }
 ],
 "metadata": {
  "kernelspec": {
   "display_name": "Python 3",
   "language": "python",
   "name": "python3"
  },
  "language_info": {
   "codemirror_mode": {
    "name": "ipython",
    "version": 3
   },
   "file_extension": ".py",
   "mimetype": "text/x-python",
   "name": "python",
   "nbconvert_exporter": "python",
   "pygments_lexer": "ipython3",
   "version": "3.7.6"
  }
 },
 "nbformat": 4,
 "nbformat_minor": 4
}
